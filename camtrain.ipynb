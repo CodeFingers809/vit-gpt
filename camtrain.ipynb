{
 "cells": [
  {
   "cell_type": "code",
   "execution_count": 1,
   "metadata": {},
   "outputs": [],
   "source": [
    "import torch\n",
    "from transformers import VisionEncoderDecoderModel, AutoTokenizer, ViTFeatureExtractor\n",
    "from PIL import Image\n",
    "import cv2\n",
    "import asyncio\n",
    "import time\n",
    "import threading\n",
    "import queue"
   ]
  },
  {
   "cell_type": "code",
   "execution_count": 2,
   "metadata": {},
   "outputs": [
    {
     "name": "stderr",
     "output_type": "stream",
     "text": [
      "c:\\Users\\ayush\\Desktop\\desc ai\\descai\\lib\\site-packages\\transformers\\models\\vit\\feature_extraction_vit.py:28: FutureWarning: The class ViTFeatureExtractor is deprecated and will be removed in version 5 of Transformers. Please use ViTImageProcessor instead.\n",
      "  warnings.warn(\n"
     ]
    }
   ],
   "source": [
    "# Configuration\n",
    "MODEL_DIR = \"VIT_large_gpt2\"\n",
    "\n",
    "# Load the model and tokenizer\n",
    "feature_extractor = ViTFeatureExtractor.from_pretrained(\"google/vit-base-patch16-224\")\n",
    "model = VisionEncoderDecoderModel.from_pretrained(MODEL_DIR)\n",
    "model = model.to(\"cuda\")"
   ]
  },
  {
   "cell_type": "code",
   "execution_count": 3,
   "metadata": {},
   "outputs": [
    {
     "name": "stderr",
     "output_type": "stream",
     "text": [
      "c:\\Users\\ayush\\Desktop\\desc ai\\descai\\lib\\site-packages\\transformers\\tokenization_utils_base.py:1601: FutureWarning: `clean_up_tokenization_spaces` was not set. It will be set to `True` by default. This behavior will be depracted in transformers v4.45, and will be then set to `False` by default. For more details check this issue: https://github.com/huggingface/transformers/issues/31884\n",
      "  warnings.warn(\n"
     ]
    }
   ],
   "source": [
    "def build_inputs_with_special_tokens(self, token_ids_0, token_ids_1=None):\n",
    "    outputs = [self.bos_token_id] + token_ids_0 + [self.eos_token_id]\n",
    "    return outputs\n",
    "\n",
    "\n",
    "AutoTokenizer.build_inputs_with_special_tokens = build_inputs_with_special_tokens\n",
    "tokenizer = AutoTokenizer.from_pretrained(\"gpt2\")"
   ]
  },
  {
   "cell_type": "code",
   "execution_count": 4,
   "metadata": {},
   "outputs": [],
   "source": [
    "# Prediction function\n",
    "def predict_step(image):\n",
    "    if image.mode != \"RGB\":\n",
    "        image = image.convert(mode=\"RGB\")\n",
    "    pixel_values = feature_extractor(images=[image], return_tensors=\"pt\").pixel_values\n",
    "    pixel_values = pixel_values.to(\"cuda\")\n",
    "    preds = tokenizer.decode(\n",
    "        model.generate(\n",
    "            feature_extractor(image, return_tensors=\"pt\").pixel_values.to(\"cuda\")\n",
    "        )[0]\n",
    "    )\n",
    "    return preds[: preds.find(\".\") + 1].replace(\"<|endoftext|>\", \"\")\n",
    "\n",
    "\n",
    "# Multithreading for running captioning seperately\n",
    "def caption_thread(frame_queue, caption_queue, stop_event):\n",
    "    while not stop_event.is_set():\n",
    "        try:\n",
    "            frame = frame_queue.get(timeout=1)\n",
    "            if frame is None:\n",
    "                break\n",
    "            pil_image = Image.fromarray(cv2.cvtColor(frame, cv2.COLOR_BGR2RGB))\n",
    "            caption = predict_step(pil_image)\n",
    "            caption_queue.put(caption)\n",
    "            frame_queue.task_done()\n",
    "        except queue.Empty:\n",
    "            continue"
   ]
  },
  {
   "cell_type": "code",
   "execution_count": 5,
   "metadata": {},
   "outputs": [
    {
     "name": "stderr",
     "output_type": "stream",
     "text": [
      "The attention mask is not set and cannot be inferred from input because pad token is same as eos token. As a consequence, you may observe unexpected behavior. Please pass your input's `attention_mask` to obtain reliable results.\n"
     ]
    },
    {
     "ename": "",
     "evalue": "",
     "output_type": "error",
     "traceback": [
      "\u001b[1;31mThe Kernel crashed while executing code in the current cell or a previous cell. \n",
      "\u001b[1;31mPlease review the code in the cell(s) to identify a possible cause of the failure. \n",
      "\u001b[1;31mClick <a href='https://aka.ms/vscodeJupyterKernelCrash'>here</a> for more info. \n",
      "\u001b[1;31mView Jupyter <a href='command:jupyter.viewOutput'>log</a> for further details."
     ]
    }
   ],
   "source": [
    "# Opening Webcam and making new thread\n",
    "cap = cv2.VideoCapture(0)\n",
    "frame_queue = queue.Queue(maxsize=1)\n",
    "caption_queue = queue.Queue(maxsize=1)\n",
    "stop_event = threading.Event()\n",
    "\n",
    "thread = threading.Thread(\n",
    "    target=caption_thread, args=(frame_queue, caption_queue, stop_event), daemon=True\n",
    ")\n",
    "thread.start()\n",
    "\n",
    "last_caption_time = time.time()\n",
    "caption = \"\"\n",
    "\n",
    "# Running model on webcam\n",
    "while True:\n",
    "    ret, frame = cap.read()\n",
    "    if not ret:\n",
    "        break\n",
    "    if frame_queue.empty():\n",
    "        frame_queue.put(frame)\n",
    "\n",
    "    # Mirror the frame\n",
    "    frame = cv2.flip(frame, 1)\n",
    "\n",
    "    current_time = time.time()\n",
    "    if current_time - last_caption_time >= 1:\n",
    "        last_caption_time = current_time\n",
    "        try:\n",
    "            caption = caption_queue.get_nowait()\n",
    "        except queue.Empty:\n",
    "            pass\n",
    "\n",
    "    if caption:\n",
    "        (w, h), _ = cv2.getTextSize(caption, cv2.FONT_HERSHEY_SIMPLEX, 0.6, 1)\n",
    "        x, y = 10, frame.shape[0] - 10\n",
    "        overlay = frame.copy()\n",
    "        cv2.rectangle(overlay, (x, y - h - 10), (x + w + 10, y + 10), (0, 255, 0), -1)\n",
    "        cv2.addWeighted(overlay, 0.5, frame, 0.5, 0, frame)\n",
    "        cv2.putText(\n",
    "            frame,\n",
    "            caption,\n",
    "            (x + 5, y - 5),\n",
    "            cv2.FONT_HERSHEY_SIMPLEX,\n",
    "            0.6,\n",
    "            (0, 0, 0),\n",
    "            1,\n",
    "            cv2.LINE_AA,\n",
    "        )\n",
    "\n",
    "    cv2.imshow(\"Webcam Captioning\", frame)\n",
    "    if cv2.waitKey(1) & 0xFF == ord(\"q\"):\n",
    "        stop_event.set()\n",
    "        break\n",
    "\n",
    "frame_queue.put(None)\n",
    "thread.join()\n",
    "cap.release()\n",
    "cv2.destroyAllWindows()"
   ]
  },
  {
   "cell_type": "code",
   "execution_count": null,
   "metadata": {},
   "outputs": [],
   "source": []
  }
 ],
 "metadata": {
  "kernelspec": {
   "display_name": "descai",
   "language": "python",
   "name": "python3"
  },
  "language_info": {
   "codemirror_mode": {
    "name": "ipython",
    "version": 3
   },
   "file_extension": ".py",
   "mimetype": "text/x-python",
   "name": "python",
   "nbconvert_exporter": "python",
   "pygments_lexer": "ipython3",
   "version": "3.10.9"
  }
 },
 "nbformat": 4,
 "nbformat_minor": 2
}
